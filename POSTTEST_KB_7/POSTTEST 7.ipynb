{
 "cells": [
  {
   "cell_type": "markdown",
   "id": "89f6e895-60b3-4764-802b-eb0dc30d0910",
   "metadata": {},
   "source": [
    "# Nama : Diky Dwicandra\n",
    "# Nim : 2109106038\n",
    "# Kelas : A2 2021\n",
    "## POSTTEST 7"
   ]
  },
  {
   "cell_type": "markdown",
   "id": "4bb78793-dc8f-471d-bc2b-2d6c877d8be9",
   "metadata": {},
   "source": [
    "### Import Library"
   ]
  },
  {
   "cell_type": "code",
   "execution_count": 2,
   "id": "87834d3d-5f37-4499-980e-daa12069a7ab",
   "metadata": {},
   "outputs": [],
   "source": [
    "import tensorflow as tf\n",
    "import numpy as np"
   ]
  },
  {
   "cell_type": "markdown",
   "id": "961da60c-7aa1-46b0-a9e9-85e2b2f2a11e",
   "metadata": {},
   "source": [
    "### Buatlah sebuah tensor dengan shape(5,5) dengan nilai random yang disimpan dalam variable random_tensor"
   ]
  },
  {
   "cell_type": "code",
   "execution_count": 3,
   "id": "736ffad1-4005-46e8-81ea-adba3a9041be",
   "metadata": {},
   "outputs": [
    {
     "data": {
      "text/plain": [
       "array([[-0.8113182 ,  1.4845988 ,  0.06532937, -2.4427042 ,  0.0992484 ],\n",
       "       [ 0.5912243 ,  0.59282297, -2.1229296 , -0.72289723, -0.05627038],\n",
       "       [ 0.6435448 , -0.26432407,  1.8566332 ,  0.5678417 , -0.3828359 ],\n",
       "       [-1.4853433 ,  1.2617711 , -0.02530608, -0.2646297 ,  1.5328138 ],\n",
       "       [-1.7429771 , -0.43789294, -0.56601   ,  0.32066926,  1.132831  ]],\n",
       "      dtype=float32)"
      ]
     },
     "execution_count": 3,
     "metadata": {},
     "output_type": "execute_result"
    }
   ],
   "source": [
    "random_tensor = tf.random.normal([5,5], seed = 1)\n",
    "random_tensor.numpy()"
   ]
  },
  {
   "cell_type": "markdown",
   "id": "d57767b7-ae4c-4e29-bbfe-c7909b00f419",
   "metadata": {},
   "source": [
    "### Buatlah sebuah tensor dengan shape(5,5) dari sebuah list dengan nilai bilangan prima dalam variable prime_tensor"
   ]
  },
  {
   "cell_type": "code",
   "execution_count": 6,
   "id": "2923c35e-8ce4-4a52-a109-e9d4a2c9ee9c",
   "metadata": {},
   "outputs": [
    {
     "name": "stdout",
     "output_type": "stream",
     "text": [
      "prime_tensor :  [[ 1.  2.  3.  4.  5.]\n",
      " [11. 12. 13. 14. 15.]\n",
      " [21. 22. 23. 24. 25.]\n",
      " [31. 32. 33. 34. 35.]\n",
      " [41. 42. 43. 44. 45.]]\n"
     ]
    }
   ],
   "source": [
    "tensor_x = [1, 2, 3, 4, 5],[11, 12, 13, 14, 15],[21, 22, 23, 24, 25],[31, 32, 33, 34, 35],[41, 42, 43, 44, 45]\n",
    "prime_tensor= tf.convert_to_tensor(tensor_x, dtype = tf.float32)\n",
    "print(\"prime_tensor : \",prime_tensor.numpy())"
   ]
  },
  {
   "cell_type": "markdown",
   "id": "806203d0-2ae6-417a-9ada-f7588b249c96",
   "metadata": {},
   "source": [
    "### Tampilkan dimensi dari kedua variable tersebut"
   ]
  },
  {
   "cell_type": "code",
   "execution_count": 7,
   "id": "e878b8f9-9036-4aa1-97bc-c8638339534b",
   "metadata": {},
   "outputs": [
    {
     "data": {
      "text/plain": [
       "TensorShape([5, 5])"
      ]
     },
     "execution_count": 7,
     "metadata": {},
     "output_type": "execute_result"
    }
   ],
   "source": [
    "random_tensor.shape"
   ]
  },
  {
   "cell_type": "code",
   "execution_count": 8,
   "id": "ef6b30f0-f777-4421-89c7-9c8dba5057e9",
   "metadata": {},
   "outputs": [
    {
     "data": {
      "text/plain": [
       "TensorShape([5, 5])"
      ]
     },
     "execution_count": 8,
     "metadata": {},
     "output_type": "execute_result"
    }
   ],
   "source": [
    "prime_tensor.shape"
   ]
  },
  {
   "cell_type": "markdown",
   "id": "50fb11d7-58f2-4776-a169-2b9948bcc0c7",
   "metadata": {},
   "source": [
    "### Tampilkan hasil dari perhitungan aritmetika 2 variable tersebut (Gunakan minimal 5 operator)"
   ]
  },
  {
   "cell_type": "markdown",
   "id": "193548d3-63d1-4181-80ab-fb527c0eb1d0",
   "metadata": {},
   "source": [
    "#### 1. Penjumlahan"
   ]
  },
  {
   "cell_type": "code",
   "execution_count": 12,
   "id": "a7e8be0e-8d59-43e2-90cb-fbade26365b0",
   "metadata": {},
   "outputs": [
    {
     "name": "stdout",
     "output_type": "stream",
     "text": [
      "Penjumlahan :  tf.Tensor(\n",
      "[[ 0.18868178  3.4845986   3.0653293   1.5572958   5.0992484 ]\n",
      " [11.591225   12.592823   10.87707    13.277102   14.943729  ]\n",
      " [21.643545   21.735676   24.856632   24.567842   24.617165  ]\n",
      " [29.514656   33.261772   32.974693   33.73537    36.532814  ]\n",
      " [39.257023   41.562107   42.43399    44.32067    46.13283   ]], shape=(5, 5), dtype=float32)\n"
     ]
    }
   ],
   "source": [
    "print(\"Penjumlahan : \", tf.add(prime_tensor,random_tensor))"
   ]
  },
  {
   "cell_type": "markdown",
   "id": "23ba5239-bfd9-4500-a3e2-db84e8eedd48",
   "metadata": {},
   "source": [
    "#### 2. Pengurangan"
   ]
  },
  {
   "cell_type": "code",
   "execution_count": 14,
   "id": "9aff97d3-318e-468a-ac02-78f1d7db3784",
   "metadata": {},
   "outputs": [
    {
     "name": "stdout",
     "output_type": "stream",
     "text": [
      "Pengurangan :  tf.Tensor(\n",
      "[[ -1.8113182   -0.51540124  -2.9346707   -6.442704    -4.9007516 ]\n",
      " [-10.408775   -11.407177   -15.12293    -14.722898   -15.056271  ]\n",
      " [-20.356455   -22.264324   -21.143368   -23.432158   -25.382835  ]\n",
      " [-32.485344   -30.73823    -33.025307   -34.26463    -33.467186  ]\n",
      " [-42.742977   -42.437893   -43.56601    -43.67933    -43.86717   ]], shape=(5, 5), dtype=float32)\n"
     ]
    }
   ],
   "source": [
    "print(\"Pengurangan : \",tf.subtract(random_tensor, prime_tensor))"
   ]
  },
  {
   "cell_type": "markdown",
   "id": "b1b9c54a-ae8a-48ad-867d-8335a9d1c218",
   "metadata": {},
   "source": [
    "#### 3. Perkalian"
   ]
  },
  {
   "cell_type": "code",
   "execution_count": 15,
   "id": "49fd115b-b48e-4c0b-9333-b7d595840cdd",
   "metadata": {},
   "outputs": [
    {
     "name": "stdout",
     "output_type": "stream",
     "text": [
      "Perkalian :  tf.Tensor(\n",
      "[[ -0.8113182    2.9691975    0.19598812  -9.770817     0.49624202]\n",
      " [  6.5034676    7.1138754  -27.598083   -10.120562    -0.8440557 ]\n",
      " [ 13.514441    -5.8151293   42.702564    13.628201    -9.570897  ]\n",
      " [-46.045643    40.376675    -0.83510065  -8.99741     53.648483  ]\n",
      " [-71.46207    -18.391504   -24.33843     14.1094475   50.977394  ]], shape=(5, 5), dtype=float32)\n"
     ]
    }
   ],
   "source": [
    "print(\"Perkalian : \",tf.multiply(random_tensor, prime_tensor))"
   ]
  },
  {
   "cell_type": "markdown",
   "id": "bfcdc845-a7dd-411c-8a23-fcbd22583f90",
   "metadata": {},
   "source": [
    "#### 4. Pembagian"
   ]
  },
  {
   "cell_type": "code",
   "execution_count": 16,
   "id": "f500b5c5-4131-4128-8958-7714fbf72f81",
   "metadata": {},
   "outputs": [
    {
     "name": "stdout",
     "output_type": "stream",
     "text": [
      "Pembagian :  tf.Tensor(\n",
      "[[-8.1131822e-01  7.4229938e-01  2.1776458e-02 -6.1067605e-01\n",
      "   1.9849680e-02]\n",
      " [ 5.3747665e-02  4.9401913e-02 -1.6330227e-01 -5.1635515e-02\n",
      "  -3.7513587e-03]\n",
      " [ 3.0644991e-02 -1.2014731e-02  8.0723181e-02  2.3660071e-02\n",
      "  -1.5313435e-02]\n",
      " [-4.7914300e-02  3.9430346e-02 -7.6685089e-04 -7.7832262e-03\n",
      "   4.3794680e-02]\n",
      " [-4.2511638e-02 -1.0426022e-02 -1.3163024e-02  7.2879377e-03\n",
      "   2.5174022e-02]], shape=(5, 5), dtype=float32)\n"
     ]
    }
   ],
   "source": [
    "print(\"Pembagian : \",tf.divide(random_tensor, prime_tensor))"
   ]
  },
  {
   "cell_type": "markdown",
   "id": "330ce1ec-d848-4a3d-b2e3-460dbe5facf8",
   "metadata": {},
   "source": [
    "#### 5. Pangkat"
   ]
  },
  {
   "cell_type": "code",
   "execution_count": 17,
   "id": "4e750e04-c4a2-499d-a743-7ff73383bdc1",
   "metadata": {},
   "outputs": [
    {
     "name": "stdout",
     "output_type": "stream",
     "text": [
      "Pangkat :  tf.Tensor(\n",
      "[[-8.1131822e-01  2.2040334e+00  2.7882098e-04  3.5602749e+01\n",
      "   9.6298072e-06]\n",
      " [ 3.0851418e-03  1.8840840e-03 -1.7789455e+04  1.0643191e-02\n",
      "  -1.7955507e-19]\n",
      " [ 9.5533214e-05  1.9364561e-13  1.5160045e+06  1.2631500e-06\n",
      "  -3.7611119e-11]\n",
      " [-2.1214481e+05  1.7036416e+03 -0.0000000e+00  2.3426716e-20\n",
      "   3.1054815e+06]\n",
      " [-7.8155469e+09  8.6587212e-16 -2.3519952e-11  1.8472375e-22\n",
      "   2.7379797e+02]], shape=(5, 5), dtype=float32)\n"
     ]
    }
   ],
   "source": [
    "print(\"Pangkat : \",tf.pow(random_tensor, prime_tensor))"
   ]
  },
  {
   "cell_type": "markdown",
   "id": "55bbb297-f85e-4e51-974d-ba285e284dc1",
   "metadata": {},
   "source": [
    "### Tampilkan nilai maksimal dan minimal dari variable random_tensor"
   ]
  },
  {
   "cell_type": "code",
   "execution_count": 19,
   "id": "70ad9f19-ae8d-41ec-9386-eff887e2cc69",
   "metadata": {},
   "outputs": [
    {
     "name": "stdout",
     "output_type": "stream",
     "text": [
      "Nilai MAX baris random tensor :  [2 0 2 2 3]\n",
      "Nilai MAX kolom random tensor :  [1 1 2 4 4]\n"
     ]
    }
   ],
   "source": [
    "print(\"Nilai MAX baris random tensor : \",tf.argmax(random_tensor, axis = 0).numpy())\n",
    "print(\"Nilai MAX kolom random tensor : \",tf.argmax(random_tensor, axis = 1).numpy())"
   ]
  },
  {
   "cell_type": "code",
   "execution_count": 21,
   "id": "361e2d77-bed2-4ea9-b5a7-1312adb7fd8f",
   "metadata": {},
   "outputs": [
    {
     "name": "stdout",
     "output_type": "stream",
     "text": [
      "Nilai MIN baris random tensor :  [4 4 1 0 2]\n",
      "Nilai MIN kolom random tensor :  [3 2 4 0 0]\n"
     ]
    }
   ],
   "source": [
    "print(\"Nilai MIN baris random tensor : \",tf.argmin(random_tensor, axis = 0).numpy())\n",
    "print(\"Nilai MIN kolom random tensor : \",tf.argmin(random_tensor, axis = 1).numpy())"
   ]
  },
  {
   "cell_type": "markdown",
   "id": "5f0cf8a1-22ed-4fa2-a12f-e998d07883ab",
   "metadata": {},
   "source": [
    "### Tampilkan hasil dari penggabungan variable random_tensor dengan prime_tensor (concatenation)"
   ]
  },
  {
   "cell_type": "code",
   "execution_count": 24,
   "id": "51840c52-7881-44d2-85cc-613b4100b60e",
   "metadata": {},
   "outputs": [
    {
     "name": "stdout",
     "output_type": "stream",
     "text": [
      "Penggabungan baris :\n",
      "  [[-8.1131822e-01  1.4845988e+00  6.5329373e-02 -2.4427042e+00\n",
      "   9.9248402e-02]\n",
      " [ 5.9122431e-01  5.9282297e-01 -2.1229296e+00 -7.2289723e-01\n",
      "  -5.6270380e-02]\n",
      " [ 6.4354479e-01 -2.6432407e-01  1.8566332e+00  5.6784171e-01\n",
      "  -3.8283589e-01]\n",
      " [-1.4853433e+00  1.2617711e+00 -2.5306080e-02 -2.6462969e-01\n",
      "   1.5328138e+00]\n",
      " [-1.7429771e+00 -4.3789294e-01 -5.6601000e-01  3.2066926e-01\n",
      "   1.1328310e+00]\n",
      " [ 1.0000000e+00  2.0000000e+00  3.0000000e+00  4.0000000e+00\n",
      "   5.0000000e+00]\n",
      " [ 1.1000000e+01  1.2000000e+01  1.3000000e+01  1.4000000e+01\n",
      "   1.5000000e+01]\n",
      " [ 2.1000000e+01  2.2000000e+01  2.3000000e+01  2.4000000e+01\n",
      "   2.5000000e+01]\n",
      " [ 3.1000000e+01  3.2000000e+01  3.3000000e+01  3.4000000e+01\n",
      "   3.5000000e+01]\n",
      " [ 4.1000000e+01  4.2000000e+01  4.3000000e+01  4.4000000e+01\n",
      "   4.5000000e+01]]\n"
     ]
    }
   ],
   "source": [
    "print(\"Penggabungan baris :\\n \",tf.concat([random_tensor, prime_tensor],axis = 0).numpy())"
   ]
  },
  {
   "cell_type": "code",
   "execution_count": 25,
   "id": "439ea144-4a8a-46ff-b592-6a98cee09a04",
   "metadata": {},
   "outputs": [
    {
     "name": "stdout",
     "output_type": "stream",
     "text": [
      "Penggabungan kolom :\n",
      "  [[-8.1131822e-01  1.4845988e+00  6.5329373e-02 -2.4427042e+00\n",
      "   9.9248402e-02  1.0000000e+00  2.0000000e+00  3.0000000e+00\n",
      "   4.0000000e+00  5.0000000e+00]\n",
      " [ 5.9122431e-01  5.9282297e-01 -2.1229296e+00 -7.2289723e-01\n",
      "  -5.6270380e-02  1.1000000e+01  1.2000000e+01  1.3000000e+01\n",
      "   1.4000000e+01  1.5000000e+01]\n",
      " [ 6.4354479e-01 -2.6432407e-01  1.8566332e+00  5.6784171e-01\n",
      "  -3.8283589e-01  2.1000000e+01  2.2000000e+01  2.3000000e+01\n",
      "   2.4000000e+01  2.5000000e+01]\n",
      " [-1.4853433e+00  1.2617711e+00 -2.5306080e-02 -2.6462969e-01\n",
      "   1.5328138e+00  3.1000000e+01  3.2000000e+01  3.3000000e+01\n",
      "   3.4000000e+01  3.5000000e+01]\n",
      " [-1.7429771e+00 -4.3789294e-01 -5.6601000e-01  3.2066926e-01\n",
      "   1.1328310e+00  4.1000000e+01  4.2000000e+01  4.3000000e+01\n",
      "   4.4000000e+01  4.5000000e+01]]\n"
     ]
    }
   ],
   "source": [
    "print(\"Penggabungan kolom :\\n \",tf.concat([random_tensor, prime_tensor],axis = 1).numpy())"
   ]
  },
  {
   "cell_type": "markdown",
   "id": "49d54a20-6e11-430e-b194-0713795f4faf",
   "metadata": {},
   "source": [
    "### Tampilkan hasil sorting dari kedua variable di atas. (descending)"
   ]
  },
  {
   "cell_type": "markdown",
   "id": "ca9e6d85-a2a0-44fe-b606-2fa1714489a6",
   "metadata": {},
   "source": [
    "#### a. Sortting random_tensor"
   ]
  },
  {
   "cell_type": "code",
   "execution_count": 35,
   "id": "a45f1670-b0b0-473b-8a44-baeef473a0b1",
   "metadata": {},
   "outputs": [
    {
     "data": {
      "text/plain": [
       "array([[ 1.4845988 ,  0.0992484 ,  0.06532937, -0.8113182 , -2.4427042 ],\n",
       "       [ 0.59282297,  0.5912243 , -0.05627038, -0.72289723, -2.1229296 ],\n",
       "       [ 1.8566332 ,  0.6435448 ,  0.5678417 , -0.26432407, -0.3828359 ],\n",
       "       [ 1.5328138 ,  1.2617711 , -0.02530608, -0.2646297 , -1.4853433 ],\n",
       "       [ 1.132831  ,  0.32066926, -0.43789294, -0.56601   , -1.7429771 ]],\n",
       "      dtype=float32)"
      ]
     },
     "execution_count": 35,
     "metadata": {},
     "output_type": "execute_result"
    }
   ],
   "source": [
    "sorting_random = tf.sort(random_tensor, direction=\"DESCENDING\")\n",
    "sorting_random.numpy()"
   ]
  },
  {
   "cell_type": "markdown",
   "id": "8b22a708-e80a-4e1a-9415-a670b2607443",
   "metadata": {},
   "source": [
    "#### b. Sortting prime_tensor"
   ]
  },
  {
   "cell_type": "code",
   "execution_count": 34,
   "id": "cee49748-07b9-4c15-b17e-a50484e5e542",
   "metadata": {},
   "outputs": [
    {
     "data": {
      "text/plain": [
       "array([[4, 3, 2, 1, 0],\n",
       "       [4, 3, 2, 1, 0],\n",
       "       [4, 3, 2, 1, 0],\n",
       "       [4, 3, 2, 1, 0],\n",
       "       [4, 3, 2, 1, 0]])"
      ]
     },
     "execution_count": 34,
     "metadata": {},
     "output_type": "execute_result"
    }
   ],
   "source": [
    "sorting_prime= tf.argsort(prime_tensor, direction=\"DESCENDING\")\n",
    "sorting_prime.numpy()"
   ]
  },
  {
   "cell_type": "markdown",
   "id": "2daf240a-59c6-4996-9176-97250910adaa",
   "metadata": {},
   "source": [
    "#### SELESAI"
   ]
  },
  {
   "cell_type": "code",
   "execution_count": null,
   "id": "b9f91bc6-020f-4d1d-b19a-895db0072e89",
   "metadata": {},
   "outputs": [],
   "source": []
  }
 ],
 "metadata": {
  "kernelspec": {
   "display_name": "Python 3 (ipykernel)",
   "language": "python",
   "name": "python3"
  },
  "language_info": {
   "codemirror_mode": {
    "name": "ipython",
    "version": 3
   },
   "file_extension": ".py",
   "mimetype": "text/x-python",
   "name": "python",
   "nbconvert_exporter": "python",
   "pygments_lexer": "ipython3",
   "version": "3.10.7"
  }
 },
 "nbformat": 4,
 "nbformat_minor": 5
}
